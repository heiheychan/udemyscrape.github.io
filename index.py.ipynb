{
 "cells": [
  {
   "cell_type": "markdown",
   "metadata": {},
   "source": [
    "# Background Story"
   ]
  },
  {
   "cell_type": "markdown",
   "metadata": {},
   "source": [
    "I had a thought of teaching Python in Cantonese and listing the course on Udemy. Therefore I created this web scraping script to collect all the meta information of the courses with the keyword \"Python\" on Udemy to understand the general statistics of the Python-related courses such as the average course length, the prices, and others. I would also want to learn what attributes of the courses would contribute to the course rating."
   ]
  },
  {
   "cell_type": "markdown",
   "metadata": {},
   "source": [
    "### Few notes before running the program"
   ]
  },
  {
   "cell_type": "markdown",
   "metadata": {},
   "source": [
    "- The chrome web driver must support the current version of the brower you are using on your local computer in order for the script to work. The webdriver I am using is for version 86\n",
    "- The class names are often changed so the script might not work as the elements cannot be located correctly. I have checked the class names on 10/7/2020 and therefore I am sure that this script works at that time."
   ]
  },
  {
   "cell_type": "markdown",
   "metadata": {},
   "source": [
    "Github page: "
   ]
  },
  {
   "cell_type": "code",
   "execution_count": 79,
   "metadata": {},
   "outputs": [],
   "source": [
    "from selenium import webdriver\n",
    "from selenium.webdriver.common.by import By\n",
    "from bs4 import BeautifulSoup\n",
    "import pandas as pd\n",
    "import time\n",
    "from datetime import datetime\n",
    "\n",
    "# Plotting\n",
    "import matplotlib.pyplot as plt\n",
    "import seaborn as sns"
   ]
  },
  {
   "cell_type": "code",
   "execution_count": 72,
   "metadata": {},
   "outputs": [],
   "source": [
    "class ScrapeClassInfo:\n",
    "    \n",
    "    def __init__(self, page_nums, term):\n",
    "        self.page_nums = page_nums\n",
    "        self.term = term\n",
    "    \n",
    "    def set_up_driver(self):\n",
    "        driver_path = './webdrivers/chromedriver'\n",
    "        self.driver = webdriver.Chrome(driver_path)\n",
    "    \n",
    "    def open_search_result(self):\n",
    "        self.base_url = 'https://www.udemy.com/'\n",
    "        self.driver.maximize_window()\n",
    "        self.driver.implicitly_wait(3)\n",
    "        self.driver.get(self.base_url)\n",
    "        time.sleep(2)\n",
    "        \n",
    "        _search_bar = \"//input[@name='q']\"\n",
    "        _search_button = \"//button[@type='submit']\"\n",
    "        \n",
    "        search_bar_ele = self.driver.find_element(By.XPATH, _search_bar)\n",
    "        search_bar_ele.send_keys(self.term)\n",
    "        \n",
    "        search_btn_ele = self.driver.find_element(By.XPATH, _search_button)\n",
    "        search_btn_ele.click()\n",
    "        \n",
    "        time.sleep(2)\n",
    "        \n",
    "    def flip_page(self, page):\n",
    "        print(\"Fliping page to \" + str(page))         \n",
    "        _next_button = \"//a[starts-with(@href, '/courses/search/?p=\" + str(page) + \"&q=\" + self.term + \"&src=ukw')]\"\n",
    "        next_btn = self.driver.find_element(By.XPATH, _next_button)\n",
    "        next_btn.click()\n",
    "        time.sleep(3)\n",
    "        \n",
    "    def start_scraping(self):\n",
    "        data_list = []\n",
    "        for one_page in range(1, self.page_nums):\n",
    "            print(\"Start scraping page \" + str(one_page))\n",
    "            soup = BeautifulSoup(self.driver.page_source)\n",
    "            all_classes = soup.select(\"div[class^='course-card--container--']\")\n",
    "            for one_class in all_classes:\n",
    "                one_class_data_row = []\n",
    "                # Get the values\n",
    "                title = one_class.select(\"div[class^='udlite-focus-visible-target udlite-heading-md course-card--course-title--']\")[0].text\n",
    "                num_lectures = one_class.select(\"span[class^='course-card--row--']\")[1].text\n",
    "                lecture_duration = one_class.select(\"span[class^='course-card--row--']\")[0].text\n",
    "                level = one_class.select(\"span[class^='course-card--row--']\")[2].text\n",
    "                prices = one_class.select(\"div[class^='price-text--price-part--']\")\n",
    "                if len(prices) == 1:\n",
    "                    price = prices[0].select(\"span:nth-child(2)\")[0].text\n",
    "                    sale_price = 0\n",
    "                elif len(prices) == 2:\n",
    "                    price = prices[1].div.select(\"span:nth-child(2)\")[0].text\n",
    "                    sale_price = prices[0].select(\"span:nth-child(2)\")[0].text\n",
    "                else:\n",
    "                    print(\"Price Error!\")\n",
    "                    print(one_class)\n",
    "                rating = one_class.select(\"span[class^='udlite-heading-sm star-rating--rating-number--']\")[0].text\n",
    "                num_rating = one_class.select(\"span[class^='udlite-text-xs course-card--reviews-text--']\")[0].text\n",
    "                \n",
    "                one_class_data_row.extend([title, num_lectures, lecture_duration, level, price, sale_price, rating, num_rating])\n",
    "                # Add one course to the data list\n",
    "                data_list.append(one_class_data_row)\n",
    "                \n",
    "            # Flip page\n",
    "            one_page += 1\n",
    "            self.flip_page(one_page)\n",
    "                \n",
    "        return data_list\n",
    "    \n",
    "    def dataframe_creation(self, values):\n",
    "        columns = ['name','lecture_length','duration','level','price','sale_price','rating','num_rating']\n",
    "        values = values\n",
    "        return pd.DataFrame(values, columns=columns)\n",
    "        \n",
    "        \n",
    "    def clean_dataframe(self, df):\n",
    "        df['lecture_length'] = df.lecture_length.str.split(' ').str.get(0).astype(int)\n",
    "        df['duration'] = df.duration.str.split(' ').str.get(0).astype(float)\n",
    "        df.price = df.price.str.strip('$').astype(float)\n",
    "        df.sale_price = df.sale_price.str.strip('$').astype(float)\n",
    "        df.num_rating = df.num_rating.str.split(' ').str.get(0).str.lstrip('(').str.rstrip(')').str.split(',').str.join('').astype(int)\n",
    "        # Saving the dataframe         \n",
    "        formatted_datetime = datetime.today().strftime('%Y-%m-%d-%H:%M:%S')\n",
    "        self.file_name = formatted_datetime + '_' + self.term + '_' + 'udemy.csv'\n",
    "        df.to_csv(self.file_name, index=False)\n",
    "    \n",
    "    def quit(self):\n",
    "        self.driver.quit()\n",
    "        \n",
    "    def main(self):\n",
    "        self.set_up_driver()\n",
    "        self.open_search_result()\n",
    "        self.clean_dataframe(self.dataframe_creation(self.start_scraping()))\n",
    "        self.quit()"
   ]
  },
  {
   "cell_type": "code",
   "execution_count": 73,
   "metadata": {},
   "outputs": [
    {
     "name": "stdout",
     "output_type": "stream",
     "text": [
      "Start scraping page 1\n",
      "Fliping page to 2\n",
      "Start scraping page 2\n",
      "Fliping page to 3\n",
      "Start scraping page 3\n",
      "Fliping page to 4\n",
      "Start scraping page 4\n",
      "Fliping page to 5\n",
      "Start scraping page 5\n",
      "Fliping page to 6\n",
      "Start scraping page 6\n",
      "Fliping page to 7\n",
      "Start scraping page 7\n",
      "Fliping page to 8\n",
      "Start scraping page 8\n",
      "Fliping page to 9\n",
      "Start scraping page 9\n",
      "Fliping page to 10\n"
     ]
    }
   ],
   "source": [
    "scrape_class_info = ScrapeClassInfo(10, 'python')\n",
    "scrape_class_info.main()"
   ]
  },
  {
   "cell_type": "code",
   "execution_count": 74,
   "metadata": {},
   "outputs": [],
   "source": [
    "df = pd.read_csv(scrape_class_info.file_name)"
   ]
  },
  {
   "cell_type": "code",
   "execution_count": 75,
   "metadata": {},
   "outputs": [
    {
     "data": {
      "text/html": [
       "<div>\n",
       "<style scoped>\n",
       "    .dataframe tbody tr th:only-of-type {\n",
       "        vertical-align: middle;\n",
       "    }\n",
       "\n",
       "    .dataframe tbody tr th {\n",
       "        vertical-align: top;\n",
       "    }\n",
       "\n",
       "    .dataframe thead th {\n",
       "        text-align: right;\n",
       "    }\n",
       "</style>\n",
       "<table border=\"1\" class=\"dataframe\">\n",
       "  <thead>\n",
       "    <tr style=\"text-align: right;\">\n",
       "      <th></th>\n",
       "      <th>name</th>\n",
       "      <th>lecture_length</th>\n",
       "      <th>duration</th>\n",
       "      <th>level</th>\n",
       "      <th>price</th>\n",
       "      <th>sale_price</th>\n",
       "      <th>rating</th>\n",
       "      <th>num_rating</th>\n",
       "    </tr>\n",
       "  </thead>\n",
       "  <tbody>\n",
       "    <tr>\n",
       "      <th>0</th>\n",
       "      <td>Learn Python Programming Masterclass</td>\n",
       "      <td>411</td>\n",
       "      <td>58.5</td>\n",
       "      <td>All Levels</td>\n",
       "      <td>109.99</td>\n",
       "      <td>14.99</td>\n",
       "      <td>4.5</td>\n",
       "      <td>59322</td>\n",
       "    </tr>\n",
       "    <tr>\n",
       "      <th>1</th>\n",
       "      <td>The Python Mega Course: Build 10 Real World Ap...</td>\n",
       "      <td>277</td>\n",
       "      <td>25.5</td>\n",
       "      <td>All Levels</td>\n",
       "      <td>109.99</td>\n",
       "      <td>15.99</td>\n",
       "      <td>4.5</td>\n",
       "      <td>42978</td>\n",
       "    </tr>\n",
       "    <tr>\n",
       "      <th>2</th>\n",
       "      <td>Python for Beginners: Learn Python Programming...</td>\n",
       "      <td>78</td>\n",
       "      <td>3.0</td>\n",
       "      <td>All Levels</td>\n",
       "      <td>99.99</td>\n",
       "      <td>13.99</td>\n",
       "      <td>4.4</td>\n",
       "      <td>10699</td>\n",
       "    </tr>\n",
       "    <tr>\n",
       "      <th>3</th>\n",
       "      <td>The Python Bible™ | Everything You Need to Pro...</td>\n",
       "      <td>74</td>\n",
       "      <td>9.0</td>\n",
       "      <td>Beginner</td>\n",
       "      <td>94.99</td>\n",
       "      <td>12.99</td>\n",
       "      <td>4.6</td>\n",
       "      <td>29646</td>\n",
       "    </tr>\n",
       "    <tr>\n",
       "      <th>4</th>\n",
       "      <td>Python for Absolute Beginners</td>\n",
       "      <td>89</td>\n",
       "      <td>3.0</td>\n",
       "      <td>Beginner</td>\n",
       "      <td>49.99</td>\n",
       "      <td>13.99</td>\n",
       "      <td>4.4</td>\n",
       "      <td>17533</td>\n",
       "    </tr>\n",
       "  </tbody>\n",
       "</table>\n",
       "</div>"
      ],
      "text/plain": [
       "                                                name  lecture_length  \\\n",
       "0               Learn Python Programming Masterclass             411   \n",
       "1  The Python Mega Course: Build 10 Real World Ap...             277   \n",
       "2  Python for Beginners: Learn Python Programming...              78   \n",
       "3  The Python Bible™ | Everything You Need to Pro...              74   \n",
       "4                      Python for Absolute Beginners              89   \n",
       "\n",
       "   duration       level   price  sale_price  rating  num_rating  \n",
       "0      58.5  All Levels  109.99       14.99     4.5       59322  \n",
       "1      25.5  All Levels  109.99       15.99     4.5       42978  \n",
       "2       3.0  All Levels   99.99       13.99     4.4       10699  \n",
       "3       9.0    Beginner   94.99       12.99     4.6       29646  \n",
       "4       3.0    Beginner   49.99       13.99     4.4       17533  "
      ]
     },
     "execution_count": 75,
     "metadata": {},
     "output_type": "execute_result"
    }
   ],
   "source": [
    "df.head(5)"
   ]
  },
  {
   "cell_type": "code",
   "execution_count": 102,
   "metadata": {},
   "outputs": [
    {
     "data": {
      "image/png": "[encoded data removed]",
      "text/plain": [
       "<Figure size 1080x576 with 2 Axes>"
      ]
     },
     "metadata": {
      "needs_background": "light"
     },
     "output_type": "display_data"
    }
   ],
   "source": [
    "# Study the distribution of the lecture length and the number of rating\n",
    "_, ax = plt.subplots(1,2,figsize=(15,8), sharey = True)\n",
    "\n",
    "sns.distplot(\n",
    "    df['lecture_length'],\n",
    "    bins = 10,\n",
    "    ax = ax[0]\n",
    ")\n",
    "\n",
    "sns.distplot(\n",
    "    df['price'],\n",
    "    bins = 10,\n",
    "    color = 'crimson',\n",
    "    ax = ax[1]\n",
    ")\n",
    "\n",
    "ax[0].set(title='Distribution of the leture length', xlabel='The number of classes in a course')\n",
    "ax[1].set(title='Distribution of the course price', xlabel='Price (in USD)')\n",
    "\n",
    "plt.show()"
   ]
  },
  {
   "cell_type": "markdown",
   "metadata": {},
   "source": [
    "### Observation"
   ]
  },
  {
   "cell_type": "markdown",
   "metadata": {},
   "source": [
    "The distribtion of the lecture length is skewed to the right and the majority of the courses has a length around and lowered than 100 hours. As for the distribution of the course price, the distribution looks bimodal. The prices mainly cluster around 25 USD and 90 USD "
   ]
  },
  {
   "cell_type": "code",
   "execution_count": 101,
   "metadata": {
    "scrolled": true
   },
   "outputs": [
    {
     "data": {
      "image/png": "[encoded data removed]",
      "text/plain": [
       "<Figure size 720x360 with 1 Axes>"
      ]
     },
     "metadata": {
      "needs_background": "light"
     },
     "output_type": "display_data"
    }
   ],
   "source": [
    "_, ax = plt.subplots(figsize=(10,5))\n",
    "\n",
    "sns.boxplot(\n",
    "    x = df['level'],\n",
    "    y = df['rating'],\n",
    "    width = 0.2,\n",
    "    ax = ax\n",
    ")\n",
    "\n",
    "plt.show()"
   ]
  },
  {
   "cell_type": "markdown",
   "metadata": {},
   "source": [
    "### Observation"
   ]
  },
  {
   "cell_type": "markdown",
   "metadata": {},
   "source": [
    "As the level increases, the mean rating drops but the ratings become less disperse."
   ]
  },
  {
   "cell_type": "code",
   "execution_count": 112,
   "metadata": {
    "scrolled": false
   },
   "outputs": [
    {
     "data": {
      "image/png": "[encoded data removed]",
      "text/plain": [
       "<Figure size 432x288 with 1 Axes>"
      ]
     },
     "metadata": {
      "needs_background": "light"
     },
     "output_type": "display_data"
    }
   ],
   "source": [
    "sns.scatterplot(\n",
    "    x = df['rating'],\n",
    "    y = df['num_rating']\n",
    ")\n",
    "\n",
    "plt.ylim(-1000,10000)\n",
    "plt.title('Rating vs the Number of Rating')\n",
    "plt.show()"
   ]
  },
  {
   "cell_type": "markdown",
   "metadata": {},
   "source": [
    "### Observation"
   ]
  },
  {
   "cell_type": "markdown",
   "metadata": {},
   "source": [
    "There is no correlation between the rating and the number of rating of a course."
   ]
  },
  {
   "cell_type": "code",
   "execution_count": null,
   "metadata": {},
   "outputs": [],
   "source": []
  }
 ],
 "metadata": {
  "kernelspec": {
   "display_name": "Python 3",
   "language": "python",
   "name": "python3"
  },
  "language_info": {
   "codemirror_mode": {
    "name": "ipython",
    "version": 3
   },
   "file_extension": ".py",
   "mimetype": "text/x-python",
   "name": "python",
   "nbconvert_exporter": "python",
   "pygments_lexer": "ipython3",
   "version": "3.7.2"
  }
 },
 "nbformat": 4,
 "nbformat_minor": 2
}
